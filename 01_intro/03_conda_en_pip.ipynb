{
 "cells": [
  {
   "cell_type": "markdown",
   "metadata": {},
   "source": [
    "[<< JupyterLab](02_jupyter_lab.ipynb) | [index](../index.ipynb) | \n",
    "\n",
    "---\n",
    "\n",
    "# Onderhoud\n",
    "\n",
    "[Python](https://www.python.org/) is een programmeertaal. Python scripts en code zijn *gewone* tekst-bestanden die geëxecuteerd kunnen worden. De basis-bestanddelen om Python te kunnen runnen zijn geïnstalleerd toen je Anaconda installeerde.\n",
    "\n",
    "> Afhankelijk van keuzes en versies zit de Anaconda Python installatie op `/anaconda3/lib/python3.x` of `{user-home}/anaconda3/lib/python3.x`.\n",
    "\n",
    "**Handige tip:** door een uitroepteken `!` vooraan in een cel te zetten, kun je bash- en shell-scripts c.q. lines uitvoeren in je JupyterLab notebook.\n",
    "\n",
    "Probeer het uit in je eigen notebook:"
   ]
  },
  {
   "cell_type": "code",
   "execution_count": 1,
   "metadata": {},
   "outputs": [
    {
     "name": "stdout",
     "output_type": "stream",
     "text": [
      "Python 3.6.5 :: Anaconda, Inc.\n"
     ]
    }
   ],
   "source": [
    "!python --version"
   ]
  },
  {
   "cell_type": "markdown",
   "metadata": {},
   "source": [
    "## Conda en Pip\n",
    "\n",
    "Omdat die basis-bestanddelen van een programmeertaal vaak niet toereikend zijn om specialistische taken uit te voeren, kent elke programmeertaal wel een mechanisme om die basis uit te breiden met pakketjes specialistische code. Dat mechanisme wordt vaak aangeduid met de naam *package manager*. Standaard package manager voor Python is [PyPI Pip](https://pypi.org/project/pip/). Anaconda heeft een eigen package manager genaamd [Conda](https://conda.io/docs/). Die extra pakketjes of *libraries* moeten dan wel voorradig zijn op de standaard plaatsen (op het web) waar de package managers zoeken. Bij pip kun je ook zelf de plaats van de extra library aangeven, bijvoorbeeld source code in een github repository.\n",
    "\n",
    "Conda en Pip zijn command line tools, je kunt ze uitvoeren vanaf de command line. Zowel Conda als Pip kun je dus direct aanroepen vanuit een JupyterLab notebookcel die je begint met een `!` uitroepteken. Maar met JupyterLab kun je ook aan de slag met de command line binnen je lab-omgeving."
   ]
  },
  {
   "cell_type": "markdown",
   "metadata": {},
   "source": [
    "## JupyterLab Terminal"
   ]
  },
  {
   "cell_type": "markdown",
   "metadata": {},
   "source": [
    "Ga naar het linker tabblad `Files`, druk links op het `+`-teken. Het `launcher`-tabblad verschijnt.<br/>\n",
    "Druk onder `Other` op de icon voor Terminal.<br/>\n",
    "![img](images/03_onderhoud/terminal.png)"
   ]
  },
  {
   "cell_type": "markdown",
   "metadata": {},
   "source": [
    "Een nieuw tabblad, een command line interface verschijnt. Probeer eens de help-functie voor Conda. Typ in je terminal\n",
    "```\n",
    "conda -h\n",
    "```\n",
    "De help-informatie voor Conda wordt afgebeeld.\n",
    "\n",
    "[Pandas](https://pandas.pydata.org/) is een veelgebruikte *data analysis library*. We kunnen kijken of Pandas is geïnstalleerd op ons systeem. Typ in je terminal\n",
    "```\n",
    "conda install pandas\n",
    "```\n",
    "Na enig nadenken antwoord Conda waarschijnlijk dat de Pandas-package al is geïnstalleerd - anders wordt Pandas alsnog geïnstalleerd.\n",
    "\n",
    "De algemene aanroepvorm voor het installeren van packages met Conda is\n",
    "```\n",
    "conda install [package-name}\n",
    "```\n",
    "\n",
    "Ook Pip kun je gebruiken vanaf de command line. Ook voor Pip is de commando-opbouw als `pip install {package-name}`. \n",
    "\n",
    "### Voorbeld: een library installeren\n",
    "\n",
    "[Requests](http://docs.python-requests.org/en/master/) is een handige library om met url's en het web te werken. Probeer eens\n",
    "```\n",
    "pip install requests\n",
    "```\n",
    ".. en zie wat er gebeurt."
   ]
  },
  {
   "cell_type": "markdown",
   "metadata": {},
   "source": [
    "## Installeren van libraries vanuit je notebook\n",
    "\n",
    "Het `!` uitroepteken vooraan in je cel verandert je cel in een command line. En Pip kun je ook instrueren om een library uit een github-repository te installeren. Probeer de volgende regel uit in een code-cell van je notebook:"
   ]
  },
  {
   "cell_type": "code",
   "execution_count": 7,
   "metadata": {},
   "outputs": [
    {
     "name": "stdout",
     "output_type": "stream",
     "text": [
      "Collecting pyutils from git+https://github.com/DANS-repo/pyutils#egg=pyutils\n",
      "  Cloning https://github.com/DANS-repo/pyutils to /private/var/folders/75/tvwk70950hbbx4nj15q99_t40000gn/T/pip-install-wihlrbi9/pyutils\n",
      "Requirement already satisfied, skipping upgrade: pandas in /anaconda3/lib/python3.6/site-packages (from pyutils) (0.23.0)\n",
      "Requirement already satisfied, skipping upgrade: python-dateutil>=2.5.0 in /anaconda3/lib/python3.6/site-packages (from pandas->pyutils) (2.7.3)\n",
      "Requirement already satisfied, skipping upgrade: pytz>=2011k in /anaconda3/lib/python3.6/site-packages (from pandas->pyutils) (2018.4)\n",
      "Requirement already satisfied, skipping upgrade: numpy>=1.9.0 in /anaconda3/lib/python3.6/site-packages (from pandas->pyutils) (1.14.3)\n",
      "Requirement already satisfied, skipping upgrade: six>=1.5 in /anaconda3/lib/python3.6/site-packages (from python-dateutil>=2.5.0->pandas->pyutils) (1.11.0)\n",
      "Building wheels for collected packages: pyutils\n",
      "  Running setup.py bdist_wheel for pyutils ... \u001b[?25ldone\n",
      "\u001b[?25h  Stored in directory: /private/var/folders/75/tvwk70950hbbx4nj15q99_t40000gn/T/pip-ephem-wheel-cache-ou8u5dj8/wheels/bb/3b/df/4863672cd09aeab1d04e995aa0f10586b3d34d0dbee4e06ef6\n",
      "Successfully built pyutils\n",
      "Installing collected packages: pyutils\n",
      "  Found existing installation: pyutils 0.0.1rc0\n",
      "    Uninstalling pyutils-0.0.1rc0:\n",
      "      Successfully uninstalled pyutils-0.0.1rc0\n",
      "Successfully installed pyutils-0.0.1rc0\n"
     ]
    }
   ],
   "source": [
    "!pip install git+https://github.com/DANS-repo/pyutils#egg=pyutils -U"
   ]
  },
  {
   "cell_type": "markdown",
   "metadata": {},
   "source": [
    "---\n",
    "\n",
    "In bovenstaand fragment zie je dus twee dingen gedemonstreerd: dat je vanuit je notenbook een library kunt installeren; dat je source code uit github kunt installeren. In de output zie je dat ook alle *dependencies* automatisch geïnstalleerd worden. Als dit gelukt is dan kun je nu de pyutils-library **importeren** in je notebook en die library aanroepen om taken uit te voeren.\n",
    "\n",
    "### Een geïmporteerde library gebruiken"
   ]
  },
  {
   "cell_type": "code",
   "execution_count": 22,
   "metadata": {},
   "outputs": [
    {
     "data": {
      "text/html": [
       "<div>\n",
       "<style scoped>\n",
       "    .dataframe tbody tr th:only-of-type {\n",
       "        vertical-align: middle;\n",
       "    }\n",
       "\n",
       "    .dataframe tbody tr th {\n",
       "        vertical-align: top;\n",
       "    }\n",
       "\n",
       "    .dataframe thead th {\n",
       "        text-align: right;\n",
       "    }\n",
       "</style>\n",
       "<table border=\"1\" class=\"dataframe\">\n",
       "  <thead>\n",
       "    <tr style=\"text-align: right;\">\n",
       "      <th></th>\n",
       "      <th>count</th>\n",
       "      <th>size</th>\n",
       "      <th>Mb</th>\n",
       "    </tr>\n",
       "  </thead>\n",
       "  <tbody>\n",
       "    <tr>\n",
       "      <th>.ipynb</th>\n",
       "      <td>8</td>\n",
       "      <td>42890</td>\n",
       "      <td>0.04</td>\n",
       "    </tr>\n",
       "    <tr>\n",
       "      <th>.png</th>\n",
       "      <td>6</td>\n",
       "      <td>238760</td>\n",
       "      <td>0.23</td>\n",
       "    </tr>\n",
       "  </tbody>\n",
       "</table>\n",
       "</div>"
      ],
      "text/plain": [
       "        count    size   Mb\n",
       ".ipynb      8   42890 0.04\n",
       ".png        6  238760 0.23"
      ]
     },
     "execution_count": 22,
     "metadata": {},
     "output_type": "execute_result"
    }
   ],
   "source": [
    "from pyutils import fs\n",
    "\n",
    "fs.list_extensions('.')"
   ]
  },
  {
   "cell_type": "markdown",
   "metadata": {},
   "source": [
    "In de eerste regel code hier boven wordt van `pyutils` de module `fs` geïmporteerd. In de tweede regel code wordt van `fs` de methode `list_extension` aangeroepen met als argument `'.'`, de huidige directory. De methode geeft een overzicht van het aantal bestanden onderscheiden naar extensie en de grootte van die soort van bestanden in bytes en Mb.\n",
    "\n",
    "Goede python-code heeft een zogenaamde *doc string* die je kunt afbeelden door achter de methode-naam het attribuut `__doc__` te plaatsen, gescheiden door een punt."
   ]
  },
  {
   "cell_type": "code",
   "execution_count": 12,
   "metadata": {},
   "outputs": [
    {
     "name": "stdout",
     "output_type": "stream",
     "text": [
      "\n",
      "    Walk a directory recursively, count files and total size per extension.\n",
      "    Optionally filter for file extension and/or path.\n",
      "\n",
      "    :param folder: the folder to search\n",
      "    :param ext_filter: lambda that works with file extension (optional)\n",
      "    :param path_filter: lambda that works with path (optional)\n",
      "\n",
      "    :return: a dataframe listing the found file extensions, count, size (in bytes and Mb)\n",
      "    \n"
     ]
    }
   ],
   "source": [
    "print(fs.list_extensions.__doc__)"
   ]
  },
  {
   "cell_type": "markdown",
   "metadata": {},
   "source": [
    "Achter de optionele parameters zie je `lambda`. Wat een `lambda`-expressie is en wat je er mee doet, is al veel te ver voor een beginnerscursus notebooks. Vergeet ze even.\n",
    "\n",
    "Wat de methode teruggeeft, de *return value*, is een dataframe. Correcter zou zijn een [Pandas.DataFrame](https://pandas.pydata.org/pandas-docs/version/0.23.4/generated/pandas.DataFrame.html). Met dataframes zul je veel te maken krijgen als je notebooks gebruikt. Zie het als een twee-dimensionale data-structuur (een tabel) met rijen en kolommen, waarmee en waarop je allerlei methoden kunt uitvoeren. "
   ]
  },
  {
   "cell_type": "markdown",
   "metadata": {},
   "source": [
    "---\n",
    "\n",
    "[<< JupyterLab](02_jupyter_lab.ipynb) | [index](../index.ipynb) | "
   ]
  }
 ],
 "metadata": {
  "kernelspec": {
   "display_name": "Python 3",
   "language": "python",
   "name": "python3"
  },
  "language_info": {
   "codemirror_mode": {
    "name": "ipython",
    "version": 3
   },
   "file_extension": ".py",
   "mimetype": "text/x-python",
   "name": "python",
   "nbconvert_exporter": "python",
   "pygments_lexer": "ipython3",
   "version": "3.6.5"
  }
 },
 "nbformat": 4,
 "nbformat_minor": 2
}
