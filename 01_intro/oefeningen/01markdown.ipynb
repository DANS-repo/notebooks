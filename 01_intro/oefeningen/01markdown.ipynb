{
 "cells": [
  {
   "cell_type": "markdown",
   "metadata": {},
   "source": [
    "# Markdown\n",
    "\n",
    "Gebruik de [markdown formatting hulp-pagina](https://help.github.com/articles/basic-writing-and-formatting-syntax/) en maak de volgende teksten aan.\n",
    "\n",
    "---"
   ]
  },
  {
   "cell_type": "raw",
   "metadata": {},
   "source": [
    "# Heading 1\n",
    "De grootste.\n",
    "## Heading 2\n",
    "De op één na grootste.\n",
    "###### Heading 6\n",
    "De kleinste kop"
   ]
  },
  {
   "cell_type": "markdown",
   "metadata": {},
   "source": [
    "# Heading 1\n",
    "De grootste.\n",
    "## Heading 2\n",
    "De op één na grootste.\n",
    "###### Heading 6\n",
    "De kleinste kop"
   ]
  },
  {
   "cell_type": "raw",
   "metadata": {},
   "source": [
    "In deze tekst staan *sommige woorden* cursief. **Andere woorden** zijn juist weer vet. Een ***combinatie*** van vet èn cursief is ook mogelijk."
   ]
  },
  {
   "cell_type": "markdown",
   "metadata": {},
   "source": [
    "In deze tekst staan *sommige woorden* cursief. **Andere woorden** zijn juist weer vet. Een ***combinatie*** van vet èn cursief is ook mogelijk."
   ]
  },
  {
   "cell_type": "raw",
   "metadata": {},
   "source": [
    "Een horizontale streep krijg je door (minstens) 3 streepjes te typen op een nieuwe regel. (---)\n",
    "___\n",
    "daarna kan de tekst weer doorlopen..."
   ]
  },
  {
   "cell_type": "markdown",
   "metadata": {},
   "source": [
    "Een horizontale streep krijg je door (minstens) 3 streepjes te typen op een nieuwe regel. (---)\n",
    "___\n",
    "daarna kan de tekst weer doorlopen..."
   ]
  },
  {
   "cell_type": "raw",
   "metadata": {},
   "source": [
    "afbreken\n",
    "van\n",
    "een regel geeft nog geen nieuwe regel\n",
    "in de gerenderde tekst.\n",
    "Die loopt gewoon door."
   ]
  },
  {
   "cell_type": "markdown",
   "metadata": {},
   "source": [
    "afbreken\n",
    "van\n",
    "een regel geeft nog geen nieuwe regel\n",
    "in de gerenderde tekst.\n",
    "Die loopt gewoon door."
   ]
  },
  {
   "cell_type": "raw",
   "metadata": {},
   "source": [
    "Pas\n",
    "\n",
    "als\n",
    "\n",
    "tussen de regels \n",
    "\n",
    "een wit-regel zit, \n",
    "\n",
    "zie je die ook in de gerenderde tekst."
   ]
  },
  {
   "cell_type": "markdown",
   "metadata": {},
   "source": [
    "Pas\n",
    "\n",
    "als\n",
    "\n",
    "tussen de regels \n",
    "\n",
    "een wit-regel zit, \n",
    "\n",
    "zie je die ook in de gerenderde tekst."
   ]
  },
  {
   "cell_type": "raw",
   "metadata": {},
   "source": [
    "Een regel afbereken zonder<br/>\n",
    "een extra wit-regel<br/>kan alleen door met html-opmaakcodes te werken. "
   ]
  },
  {
   "cell_type": "markdown",
   "metadata": {},
   "source": [
    "Een regel afbereken zonder<br/>\n",
    "een extra wit-regel<br/>kan alleen door met html-opmaakcodes te werken. "
   ]
  },
  {
   "cell_type": "code",
   "execution_count": null,
   "metadata": {},
   "outputs": [],
   "source": []
  }
 ],
 "metadata": {
  "kernelspec": {
   "display_name": "Python 3",
   "language": "python",
   "name": "python3"
  },
  "language_info": {
   "codemirror_mode": {
    "name": "ipython",
    "version": 3
   },
   "file_extension": ".py",
   "mimetype": "text/x-python",
   "name": "python",
   "nbconvert_exporter": "python",
   "pygments_lexer": "ipython3",
   "version": "3.6.5"
  }
 },
 "nbformat": 4,
 "nbformat_minor": 2
}
