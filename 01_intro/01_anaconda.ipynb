{
 "cells": [
  {
   "cell_type": "markdown",
   "metadata": {},
   "source": [
    "[index](../index.ipynb) | [JupyterLab >>](02_jupyter_lab.ipynb)\n",
    "\n",
    "---\n",
    "\n",
    "# Anaconda\n",
    "\n",
    "[Anaconda](https://www.anaconda.com/) etaleert zichzelf als **The Most Popular Python Data Science Platform**. De meest eenvoudige manier om Jupyter lab of [Jupiter Notebook](http://jupyter.org/) aan de praat te krijgen, is door Anaconda te installeren.\n",
    "\n",
    "*Anaconda* is een soort alles-in-een oplossing om met data-labs en -visualisatie te werken. Het installeert standaard de laatste versie van de [Python](https://www.python.org/) programmeertaal, de *package, dependency and environment management* tool [Conda](https://conda.io/docs/) en de web-based user interfaces [JupyterLab](https://jupyterlab.readthedocs.io/en/latest/) en [Jupyter Notebook](https://jupyter-notebook.readthedocs.io/en/stable/).\n",
    "\n",
    "## Anaconda Installeren\n",
    "Ga naar de [download pagina](https://www.anaconda.com/download) van Anaconda en - als dat al niet automatisch gebeurt - kies de versie van je platform, macOS, Windows of Linux. Kies de laatste Python versie, recentelijk was dat Python 3.7, en download de *installer*. Start de *installer* en volg de instructies op het scherm."
   ]
  },
  {
   "cell_type": "markdown",
   "metadata": {},
   "source": [
    "## Anaconda Navigator starten\n",
    "\n",
    "Start *Anaconda Navigator* op de gebruikelijke manier voor je platform. *Anaconda Navigator* opent met het scherm *Home*."
   ]
  },
  {
   "cell_type": "markdown",
   "metadata": {},
   "source": [
    "![Anaconda Navigator Home](images/01_anaconda/anaconda.png)"
   ]
  },
  {
   "cell_type": "markdown",
   "metadata": {},
   "source": [
    "*Anaconda Navigator* geeft verschillende manieren om met data labs te werken. Als je naar beneden scrollt in het *Home* scherm zie je bijvoorbeeld ook **RStudio**. Die laatste moet je nog installeren (door eenvoudig op de *Install* knop te drukken) voor je daarmee aan de slag kunt.\n",
    "\n",
    "**JupyterLab** en **Jupyter Notebook** zijn al standaard geïnstalleerd. *Jupyter Notebook* is een één-pagina omgeving om met *notebooks* te werken. *JupyterLab* is eigenlijk precies het zelfde als *Jupyter Notebook*, maar dan voor een multi-page omgeving. *JupyterLab* is nog niet helemaal volwassen (versienummer start met een `0`, de laatste versie is `0.32.1`). Ondanks dat, geef ik de voorkeur aan *JupyterLab*. Het is in alle opzichten beter en eenvoudiger om je tot één uitvoering te beperken; in deze cursus gaan we werken met *JupyterLab*."
   ]
  },
  {
   "cell_type": "markdown",
   "metadata": {},
   "source": [
    "## Start JupyterLab\n",
    "\n",
    "Click de *Launch* button voor *JupyterLab* in het *Anaconda Navigator Home* scherm. Een *JupyterLab* pagina zal openen in je standaard browser.\n",
    "\n",
    "Standaard is het adres voor *JupyterLab* in je browser http://localhost:8888/lab. \n",
    "\n",
    "> Door `lab` te veranderen in `tree` krijg je trouwens de *Notebook*-omgeving: http://localhost:8888/tree \n",
    "> \n",
    "> Terug naar **Lab** http://localhost:8888/lab\n",
    "\n",
    "Het poortnummer (8888 in bovenstaande url's) kan nog wel eens wisselen."
   ]
  },
  {
   "cell_type": "markdown",
   "metadata": {},
   "source": [
    "---\n",
    "[index](../index.ipynb) | [JupyterLab >>](02_jupyter_lab.ipynb)"
   ]
  }
 ],
 "metadata": {
  "kernelspec": {
   "display_name": "Python 3",
   "language": "python",
   "name": "python3"
  },
  "language_info": {
   "codemirror_mode": {
    "name": "ipython",
    "version": 3
   },
   "file_extension": ".py",
   "mimetype": "text/x-python",
   "name": "python",
   "nbconvert_exporter": "python",
   "pygments_lexer": "ipython3",
   "version": "3.6.5"
  }
 },
 "nbformat": 4,
 "nbformat_minor": 2
}
