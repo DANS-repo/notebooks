{
 "cells": [
  {
   "cell_type": "markdown",
   "metadata": {},
   "source": [
    "[<< Anaconda](01_anaconda.ipynb) | [index](../index.ipynb)\n",
    "\n",
    "---\n",
    "\n",
    "# JupyterLab\n",
    "\n",
    "[JupyterLab](https://jupyterlab.readthedocs.io/en/latest/) is de multi-page omgeving om met [Jupyter Notebooks](https://jupyter-notebook.readthedocs.io/en/stable/) te werken. Een Jupyter Notebook *is an open-source web application that allows you to create and share documents that contain live code, equations, visualizations and narrative text*."
   ]
  },
  {
   "cell_type": "markdown",
   "metadata": {},
   "source": [
    "## Anaconda Navigator starten\n",
    "\n",
    "Start *Anaconda Navigator* op de gebruikelijke manier voor je platform. *Anaconda Navigator* opent met het scherm *Home*."
   ]
  },
  {
   "cell_type": "markdown",
   "metadata": {},
   "source": [
    "## Start JupyterLab\n",
    "\n",
    "Click de *Launch* button voor *JupyterLab* in het *Anaconda Navigator Home* scherm. Een *JupyterLab* pagina zal openen in je standaard browser."
   ]
  },
  {
   "cell_type": "markdown",
   "metadata": {},
   "source": [
    "![JupyterLab start page](images/02_jupyter_lab/lab01.png)"
   ]
  },
  {
   "cell_type": "markdown",
   "metadata": {},
   "source": [
    "## Schermindeling\n",
    "\n",
    "Bovenaan een [menubalk](https://jupyterlab.readthedocs.io/en/stable/user/interface.html#menu-bar). \n",
    "Verder is het scherm verdeeld in twee delen. \n",
    "\n",
    "**[Linker deel](https://jupyterlab.readthedocs.io/en/stable/user/interface.html#left-sidebar):**\n",
    "- [Files](https://jupyterlab.readthedocs.io/en/stable/user/files.html) - navigeer door je file systeem.\n",
    "- [Running](https://jupyterlab.readthedocs.io/en/stable/user/running.html) - toont de 'lopende' pagina's in de lab-omgeving (en de mogelijkheid om die te *shutdown*en).\n",
    "- [Commands](https://jupyterlab.readthedocs.io/en/stable/user/commands.html) - een aantal interactieve commands (pas op!).\n",
    "- Cell Tools - (heb ik nog nooit gebruikt).\n",
    "- Tabs - openstaande tabs in het rechter deel...\n",
    "\n",
    "**[Rechter deel](https://jupyterlab.readthedocs.io/en/stable/user/interface.html#main-work-area):**\n",
    "- Toont aanvankelijk de *Launcher* pagina.\n",
    "- Als je een of meerdere *Notebooks* hebt geopend:\n",
    "    - Bovenaan een aantal buttons en een drop down voor bewerkingen op het actieve *Notebook* tabblad.\n",
    "    - De tabbladen met je geopende *Notebooks*."
   ]
  },
  {
   "cell_type": "markdown",
   "metadata": {},
   "source": [
    "## Hello Jupyter - Maak je eerste Jupyter Notebook\n",
    "\n",
    "### Een directory-structuur\n",
    "Kies in het linker deel het tabblad *Files*. \n",
    "> Door te klikken op de tab *Files* toggle je de zichtbaarheid van de *file navigator*. (Dat geldt ook voor de andere tabbladen in het linker deel.)\n",
    "\n",
    "Navigeer door je filesysteem en maak een speciale map aan voor je *Notebooks*. Dit is niet strikt noodzakelijk maar is wel zo handig.\n",
    "> Een nieuwe map maak je aan door op het mapje met het plusteken te klikken, bovenaan in het menu van het tabblad *Files*.\n",
    "\n",
    "Een nieuwe map heet aanvankelijk `Untitled Folder`.\n",
    "> Klik met je rechter muisknop op de map en kies in het contextmenu `Rename`.\n",
    "\n",
    "Noem de map op je filesysteem waar je *Notebooks* wilt bewaren bijvoorbeeld `notebooks`, `jupy` of wat je maar wil. Het is handig om per project een map te hebben, binnen die juist aangemaakte hoofdmap.\n",
    "> Ga in de zojuist aangemaakte hoofdmap door te dubbelklikken. Maak een projectmap aan met de naam `hello`.<br/>\n",
    "> Ga in de zojuist aangemaakte projectmap door te dubbelklikken.\n",
    "\n",
    "### Een nieuw Python Notebook\n",
    "Met de *Launcher* start je een nieuw notebook. Als het *Launcher* tabblad niet zichtbaar is, klik dan bovenaan in het menu van het tabblad *Files* op het plusteken.\n",
    "> Klik op het tabblad *Launcher* onder Notebook op het vierkantje *Python3*.\n",
    "\n",
    "Een nieuw notebook tabblad verschijnt. In het linker deel onder *Files* zie je een nieuw bestand: `Untitled.ipynb`.\n",
    "> Klik met je rechter muisknop op de bestandsnaam in de *file navigator* en kies in het popup menu *Rename*. Noem het bestand `hello.ipynb'."
   ]
  },
  {
   "cell_type": "markdown",
   "metadata": {},
   "source": [
    "## Notebooks en cellen\n",
    "\n",
    "Een *Notebook* bestaat uit cellen. Cellen kunnen code bevatten, [markdown](https://help.github.com/articles/basic-writing-and-formatting-syntax/) tekst en *Raw* tekst. Welke functie een cel heeft, kies je met cell-mode selector, een dropdown menu onder de rij met tabbladen in het werkgedeelte.\n",
    "\n",
    "![Cell modes](images/02_jupyter_lab/cellmode.png)\n",
    "\n",
    "### Een code cell\n",
    "\n",
    "Een cell in de modus `code` kan code bevatten en uitvoeren. \n",
    "> Plaats de cursor in de eerste cel van je notebook, kies met de cell-mode selector `Code`.<br/>\n",
    "> Type in de cel `1 + 2`<br/>\n",
    "> Voer de code uit door tegelijkertijd `Shift` en `Enter` in te drukken."
   ]
  },
  {
   "cell_type": "code",
   "execution_count": 1,
   "metadata": {},
   "outputs": [
    {
     "data": {
      "text/plain": [
       "3"
      ]
     },
     "execution_count": 1,
     "metadata": {},
     "output_type": "execute_result"
    }
   ],
   "source": [
    "1 + 2"
   ]
  },
  {
   "cell_type": "markdown",
   "metadata": {},
   "source": [
    "Voor de code cell verschijnt na executie het teken `In` en een volgnummer tussen vierkante haken. Als de executie iets oplevert dan verschijnt onder de code cell de output, ook met een volgnummer. Als de executie van de code lang genoeg duurt dan zie je tussen de vierkante haken bij de `In` cel een sterretje `In[*]` ten teken dat de code wordt uitgevoerd.\n",
    "\n",
    "Naast eenvoudige rekensommetjes kun je in een code cell ook meerdere regels programma code laten uitvoeren."
   ]
  },
  {
   "cell_type": "code",
   "execution_count": 4,
   "metadata": {},
   "outputs": [
    {
     "name": "stdout",
     "output_type": "stream",
     "text": [
      "0 hello\n",
      "1 notebooks\n",
      "2 hello\n"
     ]
    }
   ],
   "source": [
    "for x in range(0, 3):\n",
    "    if x % 2 == 0:\n",
    "        print(x, 'hello')\n",
    "    else:\n",
    "        print(x, 'notebooks')"
   ]
  },
  {
   "cell_type": "markdown",
   "metadata": {},
   "source": [
    "Als code niet kan worden uitgevoerd of er gaat iets fout, dan verschijnt er onder de cel roze output met (hopelijk) de reden waarom het fout ging."
   ]
  },
  {
   "cell_type": "code",
   "execution_count": 5,
   "metadata": {},
   "outputs": [
    {
     "ename": "ZeroDivisionError",
     "evalue": "division by zero",
     "output_type": "error",
     "traceback": [
      "\u001b[0;31m---------------------------------------------------------------------------\u001b[0m",
      "\u001b[0;31mZeroDivisionError\u001b[0m                         Traceback (most recent call last)",
      "\u001b[0;32m<ipython-input-5-52cebea8b64f>\u001b[0m in \u001b[0;36m<module>\u001b[0;34m()\u001b[0m\n\u001b[0;32m----> 1\u001b[0;31m \u001b[0;36m42\u001b[0m \u001b[0;34m/\u001b[0m \u001b[0;36m0\u001b[0m\u001b[0;34m\u001b[0m\u001b[0m\n\u001b[0m",
      "\u001b[0;31mZeroDivisionError\u001b[0m: division by zero"
     ]
    }
   ],
   "source": [
    "42 / 0"
   ]
  },
  {
   "cell_type": "markdown",
   "metadata": {},
   "source": [
    "### Markdown in cellen\n",
    "\n",
    "> Plaats de cursor in een lege cel, kies met de cell-mode selector `Markdown`.<br/>\n",
    "> Typ in de cel `# Eerste hoofdstuk`.<br/>\n",
    "> Druk op `Enter`.<br/>\n",
    "> Type `Dit is het eerste hoofdstuk`.<br/>\n",
    "> Render de markdown door tegelijkertijd `Shift` en `Enter` in te drukken."
   ]
  },
  {
   "cell_type": "markdown",
   "metadata": {},
   "source": [
    "Een handleiding voor Markdown syntax is ook te vinden door in het linker gedeelte onder tabblad `Commands` onder `Help` op `Markdown Reference` te klikken. Kies op het browser tabblad dat verschijnt voor **Basic writing and formatting syntax**."
   ]
  },
  {
   "cell_type": "markdown",
   "metadata": {},
   "source": [
    "**Gefeliciteerd!** Je hebt je eerste JupyterLab Python Notebook geschreven!"
   ]
  },
  {
   "cell_type": "markdown",
   "metadata": {},
   "source": [
    "---\n",
    "[<< Anaconda](01_anaconda.ipynb) | [index](../index.ipynb)"
   ]
  }
 ],
 "metadata": {
  "kernelspec": {
   "display_name": "Python 3",
   "language": "python",
   "name": "python3"
  },
  "language_info": {
   "codemirror_mode": {
    "name": "ipython",
    "version": 3
   },
   "file_extension": ".py",
   "mimetype": "text/x-python",
   "name": "python",
   "nbconvert_exporter": "python",
   "pygments_lexer": "ipython3",
   "version": "3.6.5"
  }
 },
 "nbformat": 4,
 "nbformat_minor": 2
}
