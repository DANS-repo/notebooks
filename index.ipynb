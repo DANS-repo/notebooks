{
 "cells": [
  {
   "cell_type": "markdown",
   "metadata": {},
   "source": [
    "# Notebooks\n",
    "\n",
    "Met **Jupyter Notebooks** en **JupyterLab** kun je, ook als je geen programmeer-achtergrond hebt, eenvoudig aan de slag.\n",
    "\n",
    "In dit repository een **intro** op *JupyterLab* en de *Anaconda Navigator* dat je gebruikt om *JupyterLab* te draaien. Verder een aantal **templates** voor handige functies."
   ]
  },
  {
   "cell_type": "markdown",
   "metadata": {},
   "source": [
    "### Intro\n",
    "- [Anaconda Navigator installeren](01_intro/01_anaconda.ipynb)\n",
    "- [Introductie JupiterLab](01_intro/02_jupyter_lab.ipynb)\n",
    "- [Onderhoud - Conda en Pip - importeren van libraries](01_intro/03_conda_en_pip.ipynb)\n",
    "\n",
    "\n",
    "### Templates\n",
    "In de xxx ***template*** pagina's is zo veel mogelijk gebruik gemaakt van 'clean code' blokken, die je kunt overnemen of kopiëren naar cellen in je eigen notebooks. De xxx ***info*** pagina's geven waar nodig achtergrondinformatie.\n",
    "\n",
    "##### Zoeken\n",
    "- [Solr info](02_templates/solr/solr.ipynb) - hoe maak je gebruik van de Solr zoekinterface\n",
    "- [Solr template](02_templates/solr/solr-template.ipynb)\n",
    "\n",
    "\n",
    "##### Formatting\n",
    "- [Link template](02_templates/formatting/link-template.ipynb) - hoe render je een DataFrame zodat je links krijgt in de cellen"
   ]
  },
  {
   "cell_type": "code",
   "execution_count": null,
   "metadata": {},
   "outputs": [],
   "source": []
  }
 ],
 "metadata": {
  "kernelspec": {
   "display_name": "Python 3",
   "language": "python",
   "name": "python3"
  },
  "language_info": {
   "codemirror_mode": {
    "name": "ipython",
    "version": 3
   },
   "file_extension": ".py",
   "mimetype": "text/x-python",
   "name": "python",
   "nbconvert_exporter": "python",
   "pygments_lexer": "ipython3",
   "version": "3.6.5"
  }
 },
 "nbformat": 4,
 "nbformat_minor": 2
}
