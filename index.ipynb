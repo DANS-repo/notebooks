{
 "cells": [
  {
   "cell_type": "markdown",
   "metadata": {},
   "source": [
    "# Notebooks\n",
    "\n",
    "Met **Jupyter Notebooks** en **JupyterLab** kun je, ook als je geen programmeer-achtergrond hebt, eenvoudig aan de slag.\n",
    "\n",
    "In dit repository een **intro** op *JupyterLab* en de *Anaconda Navigator* dat je gebruikt om *JupyterLab* te draaien. Verder een aantal **templates** voor veelvoorkomende onderzoeken."
   ]
  },
  {
   "cell_type": "markdown",
   "metadata": {},
   "source": [
    "## Index\n",
    "\n",
    "### Intro\n",
    "- [Anaconda Navigator installeren](01_intro/01_anaconda.ipynb)\n",
    "- [Introductie JupiterLab](01_intro/02_jupyter_lab.ipynb)\n",
    "    - **Oefeningen**\n",
    "        - [Markdown](01_intro/oefeningen/01markdown.ipynb)"
   ]
  },
  {
   "cell_type": "code",
   "execution_count": null,
   "metadata": {},
   "outputs": [],
   "source": []
  }
 ],
 "metadata": {
  "kernelspec": {
   "display_name": "Python 3",
   "language": "python",
   "name": "python3"
  },
  "language_info": {
   "codemirror_mode": {
    "name": "ipython",
    "version": 3
   },
   "file_extension": ".py",
   "mimetype": "text/x-python",
   "name": "python",
   "nbconvert_exporter": "python",
   "pygments_lexer": "ipython3",
   "version": "3.6.5"
  }
 },
 "nbformat": 4,
 "nbformat_minor": 2
}
