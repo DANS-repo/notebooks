{
 "cells": [
  {
   "cell_type": "markdown",
   "metadata": {},
   "source": [
    "[index](../../index.ipynb)\n",
    "\n",
    "---\n",
    "##### Solr template"
   ]
  },
  {
   "cell_type": "markdown",
   "metadata": {},
   "source": [
    "# Search function"
   ]
  },
  {
   "cell_type": "code",
   "execution_count": 1,
   "metadata": {},
   "outputs": [],
   "source": [
    "import pandas as pd\n",
    "import urllib\n",
    "\n",
    "def search(query, max_results=200):\n",
    "    \"\"\"\n",
    "    Execute a query on the solr search-index.\n",
    "    \n",
    "    :param query: the query to execute\n",
    "    :param max_results: maximum number of results to return. default: 200\n",
    "    \n",
    "    :return: Pandas.DataFrame with results\n",
    "    \"\"\"\n",
    "    url = 'http://easy01.dans.knaw.nl:8080/solr/datasets/select?wt=csv&rows={}&q={}'.format(max_results, urllib.parse.quote(query))\n",
    "    return pd.read_csv(url)"
   ]
  },
  {
   "cell_type": "markdown",
   "metadata": {},
   "source": [
    "---\n",
    "\n",
    "#### Documentation"
   ]
  },
  {
   "cell_type": "code",
   "execution_count": 2,
   "metadata": {},
   "outputs": [
    {
     "name": "stdout",
     "output_type": "stream",
     "text": [
      "\n",
      "    Execute a query on the solr search-index.\n",
      "    \n",
      "    :param query: the query to execute\n",
      "    :param max_results: maximum number of results to return. default: 200\n",
      "    \n",
      "    :return: Pandas.DataFrame with results\n",
      "    \n"
     ]
    }
   ],
   "source": [
    "print(search.__doc__)"
   ]
  },
  {
   "cell_type": "markdown",
   "metadata": {},
   "source": [
    "See also Solr and Lucene Query Syntax, i.e. [Lucene Query Syntax](http://www.solrtutorial.com/solr-query-syntax.html), [Apache Lucene](https://lucene.apache.org/core/2_9_4/queryparsersyntax.html), [SolrQuerySyntax](https://wiki.apache.org/solr/SolrQuerySyntax)"
   ]
  },
  {
   "cell_type": "markdown",
   "metadata": {},
   "source": [
    "---\n",
    "\n",
    "#### Usage examples"
   ]
  },
  {
   "cell_type": "code",
   "execution_count": 3,
   "metadata": {},
   "outputs": [
    {
     "data": {
      "text/plain": [
       "(2, 42)"
      ]
     },
     "execution_count": 3,
     "metadata": {},
     "output_type": "execute_result"
    }
   ],
   "source": [
    "# search for a unique identifier or a rather unique combination of words in title\n",
    "query = 'dc_identifier:\"urn:nbn:nl:ui:13-fshe-vp\" OR dc_title:\"polyphyletic assemblage\"'\n",
    "df = search(query)\n",
    "df.shape"
   ]
  },
  {
   "cell_type": "code",
   "execution_count": 4,
   "metadata": {},
   "outputs": [
    {
     "data": {
      "text/html": [
       "<div>\n",
       "<style scoped>\n",
       "    .dataframe tbody tr th:only-of-type {\n",
       "        vertical-align: middle;\n",
       "    }\n",
       "\n",
       "    .dataframe tbody tr th {\n",
       "        vertical-align: top;\n",
       "    }\n",
       "\n",
       "    .dataframe thead th {\n",
       "        text-align: right;\n",
       "    }\n",
       "</style>\n",
       "<table border=\"1\" class=\"dataframe\">\n",
       "  <thead>\n",
       "    <tr style=\"text-align: right;\">\n",
       "      <th></th>\n",
       "      <th>dc_title</th>\n",
       "      <th>dc_coverage</th>\n",
       "    </tr>\n",
       "  </thead>\n",
       "  <tbody>\n",
       "    <tr>\n",
       "      <th>0</th>\n",
       "      <td>Productive Uses of Energy and Gender in the St...</td>\n",
       "      <td>Rwanda,Senegal,South Africa,2017</td>\n",
       "    </tr>\n",
       "  </tbody>\n",
       "</table>\n",
       "</div>"
      ],
      "text/plain": [
       "                                            dc_title  \\\n",
       "0  Productive Uses of Energy and Gender in the St...   \n",
       "\n",
       "                        dc_coverage  \n",
       "0  Rwanda,Senegal,South Africa,2017  "
      ]
     },
     "execution_count": 4,
     "metadata": {},
     "output_type": "execute_result"
    }
   ],
   "source": [
    "# search for words 'street' and 'sector' within 2 words from each other in field dc_title; only display 2 fields\n",
    "df = search('dc_title:\"street sector\"~2')\n",
    "df[['dc_title', 'dc_coverage']]"
   ]
  },
  {
   "cell_type": "markdown",
   "metadata": {},
   "source": [
    "---\n",
    "\n",
    "#### Fields in index `easyDatasets`"
   ]
  },
  {
   "cell_type": "code",
   "execution_count": 5,
   "metadata": {},
   "outputs": [
    {
     "data": {
      "text/html": [
       "<div>\n",
       "<style scoped>\n",
       "    .dataframe tbody tr th:only-of-type {\n",
       "        vertical-align: middle;\n",
       "    }\n",
       "\n",
       "    .dataframe tbody tr th {\n",
       "        vertical-align: top;\n",
       "    }\n",
       "\n",
       "    .dataframe thead th {\n",
       "        text-align: right;\n",
       "    }\n",
       "</style>\n",
       "<table border=\"1\" class=\"dataframe\">\n",
       "  <thead>\n",
       "    <tr style=\"text-align: right;\">\n",
       "      <th></th>\n",
       "    </tr>\n",
       "  </thead>\n",
       "  <tbody>\n",
       "    <tr>\n",
       "      <th>dc_coverage</th>\n",
       "    </tr>\n",
       "    <tr>\n",
       "      <th>emd_date_available_formatted</th>\n",
       "    </tr>\n",
       "    <tr>\n",
       "      <th>amd_assignee_id</th>\n",
       "    </tr>\n",
       "    <tr>\n",
       "      <th>dc_title_s</th>\n",
       "    </tr>\n",
       "    <tr>\n",
       "      <th>dc_source</th>\n",
       "    </tr>\n",
       "    <tr>\n",
       "      <th>type</th>\n",
       "    </tr>\n",
       "    <tr>\n",
       "      <th>dc_description</th>\n",
       "    </tr>\n",
       "    <tr>\n",
       "      <th>emd_date_created_formatted</th>\n",
       "    </tr>\n",
       "    <tr>\n",
       "      <th>dc_subject</th>\n",
       "    </tr>\n",
       "    <tr>\n",
       "      <th>sid</th>\n",
       "    </tr>\n",
       "    <tr>\n",
       "      <th>emd_date_published</th>\n",
       "    </tr>\n",
       "    <tr>\n",
       "      <th>emd_audience</th>\n",
       "    </tr>\n",
       "    <tr>\n",
       "      <th>emd_date_created</th>\n",
       "    </tr>\n",
       "    <tr>\n",
       "      <th>emd_date_available</th>\n",
       "    </tr>\n",
       "    <tr>\n",
       "      <th>dc_rights</th>\n",
       "    </tr>\n",
       "    <tr>\n",
       "      <th>dc_contributor</th>\n",
       "    </tr>\n",
       "    <tr>\n",
       "      <th>dc_contributor_s</th>\n",
       "    </tr>\n",
       "    <tr>\n",
       "      <th>dai_contributor</th>\n",
       "    </tr>\n",
       "    <tr>\n",
       "      <th>repository_id</th>\n",
       "    </tr>\n",
       "    <tr>\n",
       "      <th>psl_permission_status</th>\n",
       "    </tr>\n",
       "    <tr>\n",
       "      <th>emd_date_submitted</th>\n",
       "    </tr>\n",
       "    <tr>\n",
       "      <th>dc_publisher</th>\n",
       "    </tr>\n",
       "    <tr>\n",
       "      <th>dai_creator</th>\n",
       "    </tr>\n",
       "    <tr>\n",
       "      <th>dc_identifier</th>\n",
       "    </tr>\n",
       "    <tr>\n",
       "      <th>emd_date_deleted</th>\n",
       "    </tr>\n",
       "    <tr>\n",
       "      <th>dc_creator_s</th>\n",
       "    </tr>\n",
       "    <tr>\n",
       "      <th>dc_date</th>\n",
       "    </tr>\n",
       "    <tr>\n",
       "      <th>ds_state</th>\n",
       "    </tr>\n",
       "    <tr>\n",
       "      <th>dc_format</th>\n",
       "    </tr>\n",
       "    <tr>\n",
       "      <th>dc_creator</th>\n",
       "    </tr>\n",
       "    <tr>\n",
       "      <th>dc_relation</th>\n",
       "    </tr>\n",
       "    <tr>\n",
       "      <th>dc_type</th>\n",
       "    </tr>\n",
       "    <tr>\n",
       "      <th>archaeology_dc_subject</th>\n",
       "    </tr>\n",
       "    <tr>\n",
       "      <th>dc_language</th>\n",
       "    </tr>\n",
       "    <tr>\n",
       "      <th>dc_publisher_s</th>\n",
       "    </tr>\n",
       "    <tr>\n",
       "      <th>easy_collections</th>\n",
       "    </tr>\n",
       "    <tr>\n",
       "      <th>archaeology_dcterms_temporal</th>\n",
       "    </tr>\n",
       "    <tr>\n",
       "      <th>dc_title</th>\n",
       "    </tr>\n",
       "    <tr>\n",
       "      <th>amd_depositor_id</th>\n",
       "    </tr>\n",
       "    <tr>\n",
       "      <th>ds_accesscategory</th>\n",
       "    </tr>\n",
       "    <tr>\n",
       "      <th>emd_date_draft_saved</th>\n",
       "    </tr>\n",
       "    <tr>\n",
       "      <th>amd_workflow_progress</th>\n",
       "    </tr>\n",
       "  </tbody>\n",
       "</table>\n",
       "</div>"
      ],
      "text/plain": [
       "Empty DataFrame\n",
       "Columns: []\n",
       "Index: [dc_coverage, emd_date_available_formatted, amd_assignee_id, dc_title_s, dc_source, type, dc_description, emd_date_created_formatted, dc_subject, sid, emd_date_published, emd_audience, emd_date_created, emd_date_available, dc_rights, dc_contributor, dc_contributor_s, dai_contributor, repository_id, psl_permission_status, emd_date_submitted, dc_publisher, dai_creator, dc_identifier, emd_date_deleted, dc_creator_s, dc_date, ds_state, dc_format, dc_creator, dc_relation, dc_type, archaeology_dc_subject, dc_language, dc_publisher_s, easy_collections, archaeology_dcterms_temporal, dc_title, amd_depositor_id, ds_accesscategory, emd_date_draft_saved, amd_workflow_progress]"
      ]
     },
     "execution_count": 5,
     "metadata": {},
     "output_type": "execute_result"
    }
   ],
   "source": [
    "search('dc_title:foo').T"
   ]
  },
  {
   "cell_type": "markdown",
   "metadata": {},
   "source": [
    "---\n",
    "[index](../../index.ipynb)"
   ]
  },
  {
   "cell_type": "code",
   "execution_count": null,
   "metadata": {},
   "outputs": [],
   "source": []
  }
 ],
 "metadata": {
  "kernelspec": {
   "display_name": "Python 3",
   "language": "python",
   "name": "python3"
  },
  "language_info": {
   "codemirror_mode": {
    "name": "ipython",
    "version": 3
   },
   "file_extension": ".py",
   "mimetype": "text/x-python",
   "name": "python",
   "nbconvert_exporter": "python",
   "pygments_lexer": "ipython3",
   "version": "3.6.5"
  }
 },
 "nbformat": 4,
 "nbformat_minor": 2
}
