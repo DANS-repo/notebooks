{
 "cells": [
  {
   "cell_type": "markdown",
   "metadata": {},
   "source": [
    "##### Solr info\n",
    "---\n",
    "\n",
    "# Zoeken met Solr\n",
    "\n",
    "[Solr](http://lucene.apache.org/solr/) is de zoek-machine achter EASY. Naast de gebruikelijke zoek-interfaces op EASY kun je Solr-EASY ook via een eigen interface benaderen: de [Admin Page](http://easy01.dans.knaw.nl:8080/solr/datasets/admin/). Met de [Solr query syntax](https://wiki.apache.org/solr/SolrQuerySyntax) kun je geavanceerde queries samenstellen en de *Full interface* van de **Admin Page** geeft ook de mogelijkheid de output van het zoekresultaat te bepalen.\n",
    "\n",
    "Wat we hier boven beschreven, kunnen we ook allemaal met de Solr API, de programmeerbare interface van Solr. De meerwaarde om dit via JupyterLab te doen bestaat onder andere uit:\n",
    "\n",
    "- Je kunt je queries automatiseren\n",
    "- Resultaat naar een Pandas DataFrame schrijven. Daarmee kun je\n",
    "    - Nog meer en meer geavanceerde analyses op je zoekresultaten doen\n",
    "    - Je zoekresultaat naar Excel wegschrijven\n",
    "    - Linken naar datasets in je zoekresultaat."
   ]
  },
  {
   "cell_type": "markdown",
   "metadata": {},
   "source": [
    "## Solr aanroepen\n",
    "\n",
    "De volgende methode accepteert een query, het zoekresultaat wordt weggeschreven naar een Pandas DataFrame. Merk op dat we het resultaat beperken tot de eerste 200 ('rows=200'). Pas dit eventueel aan aan wat je wil bereiken. We instrueren Solr ook om het resultaat terug te geven als csv (`wt=csv`). csv leest makkelijk in in een Pandas DataFrame."
   ]
  },
  {
   "cell_type": "code",
   "execution_count": 1,
   "metadata": {},
   "outputs": [],
   "source": [
    "import pandas as pd\n",
    "import urllib\n",
    "\n",
    "def search(query):\n",
    "    url = 'http://easy01.dans.knaw.nl:8080/solr/datasets/select?wt=csv&rows=200&q=' + urllib.parse.quote(query)\n",
    "    df = pd.read_csv(url)\n",
    "    return df"
   ]
  },
  {
   "cell_type": "markdown",
   "metadata": {},
   "source": [
    "### Alle zoekvelden\n",
    "\n",
    "Om de werking van onze zoek-methode te demonstreeren èn om een overzicht te geven van de zoekvelden die de index easyDatasets gebruikt, voeren we een eenvoudige query uit, die maar één resultaat geeft, en draaien, voor de duidelijkheid, even kolommen en rijen van de resultaat DataFrame om (kolommen worden rijen). \n",
    "\n",
    "De query gebruikt het zoekveld `sid` om een enkel resultaat te krijgen. Achter de aanroep zetten we `T` voor [Transform](https://pandas.pydata.org/pandas-docs/stable/generated/pandas.DataFrame.T.html). Kijk maar wat er gebeurt als je die `T` (en de punt) weg laat. Voor de duidelijkheid, we hadden het ook zo kunnen schrijven:\n",
    "```\n",
    "query = 'sid:\"easy-dataset:47169\"'\n",
    "resultaat = search(query)\n",
    "resultaat.T\n",
    "```"
   ]
  },
  {
   "cell_type": "code",
   "execution_count": 2,
   "metadata": {},
   "outputs": [
    {
     "data": {
      "text/html": [
       "<div>\n",
       "<style scoped>\n",
       "    .dataframe tbody tr th:only-of-type {\n",
       "        vertical-align: middle;\n",
       "    }\n",
       "\n",
       "    .dataframe tbody tr th {\n",
       "        vertical-align: top;\n",
       "    }\n",
       "\n",
       "    .dataframe thead th {\n",
       "        text-align: right;\n",
       "    }\n",
       "</style>\n",
       "<table border=\"1\" class=\"dataframe\">\n",
       "  <thead>\n",
       "    <tr style=\"text-align: right;\">\n",
       "      <th></th>\n",
       "      <th>0</th>\n",
       "    </tr>\n",
       "  </thead>\n",
       "  <tbody>\n",
       "    <tr>\n",
       "      <th>dc_coverage</th>\n",
       "      <td>Provincie Groningen,Gemeente Groningen,Groning...</td>\n",
       "    </tr>\n",
       "    <tr>\n",
       "      <th>emd_date_available_formatted</th>\n",
       "      <td>2018-11-27</td>\n",
       "    </tr>\n",
       "    <tr>\n",
       "      <th>amd_assignee_id</th>\n",
       "      <td>kbakker</td>\n",
       "    </tr>\n",
       "    <tr>\n",
       "      <th>dc_title_s</th>\n",
       "      <td>Archeologische begeleiding aanleg gasleiding O...</td>\n",
       "    </tr>\n",
       "    <tr>\n",
       "      <th>dc_source</th>\n",
       "      <td>NaN</td>\n",
       "    </tr>\n",
       "    <tr>\n",
       "      <th>type</th>\n",
       "      <td>easy-dataset,dataset</td>\n",
       "    </tr>\n",
       "    <tr>\n",
       "      <th>dc_description</th>\n",
       "      <td>De aanleiding tot het archeologisch onderzoek ...</td>\n",
       "    </tr>\n",
       "    <tr>\n",
       "      <th>emd_date_created_formatted</th>\n",
       "      <td>20181126-01-01T00:00:00.000+0100</td>\n",
       "    </tr>\n",
       "    <tr>\n",
       "      <th>dc_subject</th>\n",
       "      <td>VWAL</td>\n",
       "    </tr>\n",
       "    <tr>\n",
       "      <th>sid</th>\n",
       "      <td>easy-dataset:114164</td>\n",
       "    </tr>\n",
       "    <tr>\n",
       "      <th>emd_date_published</th>\n",
       "      <td>2018-11-30T10:13:28.71Z</td>\n",
       "    </tr>\n",
       "    <tr>\n",
       "      <th>emd_audience</th>\n",
       "      <td>easy-discipline:2</td>\n",
       "    </tr>\n",
       "    <tr>\n",
       "      <th>emd_date_created</th>\n",
       "      <td>20181125-12-31T23:00:00Z</td>\n",
       "    </tr>\n",
       "    <tr>\n",
       "      <th>emd_date_available</th>\n",
       "      <td>2018-11-26T23:00:00Z</td>\n",
       "    </tr>\n",
       "    <tr>\n",
       "      <th>dc_rights</th>\n",
       "      <td>GROUP_ACCESS,accept,Antea Group\\, Heerenveen</td>\n",
       "    </tr>\n",
       "    <tr>\n",
       "      <th>dc_contributor</th>\n",
       "      <td>NaN</td>\n",
       "    </tr>\n",
       "    <tr>\n",
       "      <th>dc_contributor_s</th>\n",
       "      <td>NaN</td>\n",
       "    </tr>\n",
       "    <tr>\n",
       "      <th>dai_contributor</th>\n",
       "      <td>NaN</td>\n",
       "    </tr>\n",
       "    <tr>\n",
       "      <th>repository_id</th>\n",
       "      <td>easy_local</td>\n",
       "    </tr>\n",
       "    <tr>\n",
       "      <th>psl_permission_status</th>\n",
       "      <td>NaN</td>\n",
       "    </tr>\n",
       "    <tr>\n",
       "      <th>emd_date_submitted</th>\n",
       "      <td>2018-11-27T09:06:36.704Z</td>\n",
       "    </tr>\n",
       "    <tr>\n",
       "      <th>dc_publisher</th>\n",
       "      <td>Antea Group\\, Heerenveen</td>\n",
       "    </tr>\n",
       "    <tr>\n",
       "      <th>dai_creator</th>\n",
       "      <td>NaN</td>\n",
       "    </tr>\n",
       "    <tr>\n",
       "      <th>dc_identifier</th>\n",
       "      <td>urn:nbn:nl:ui:13-6d-4z5x,10.17026/dans-xqp-3vv...</td>\n",
       "    </tr>\n",
       "    <tr>\n",
       "      <th>emd_date_deleted</th>\n",
       "      <td>NaN</td>\n",
       "    </tr>\n",
       "    <tr>\n",
       "      <th>dc_creator_s</th>\n",
       "      <td>Akkerman, drs E., Editor Fens, MA R.L. (Antea ...</td>\n",
       "    </tr>\n",
       "    <tr>\n",
       "      <th>dc_date</th>\n",
       "      <td>20181126-01-01T00:00:00.000+0100,2018-11-27,20...</td>\n",
       "    </tr>\n",
       "    <tr>\n",
       "      <th>ds_state</th>\n",
       "      <td>PUBLISHED</td>\n",
       "    </tr>\n",
       "    <tr>\n",
       "      <th>dc_format</th>\n",
       "      <td>application/pdf,PDF</td>\n",
       "    </tr>\n",
       "    <tr>\n",
       "      <th>dc_creator</th>\n",
       "      <td>Akkerman\\, drs E.\\, Editor,Fens\\, MA R.L. (Ant...</td>\n",
       "    </tr>\n",
       "    <tr>\n",
       "      <th>dc_relation</th>\n",
       "      <td>NaN</td>\n",
       "    </tr>\n",
       "    <tr>\n",
       "      <th>dc_type</th>\n",
       "      <td>Text,eindrapport</td>\n",
       "    </tr>\n",
       "    <tr>\n",
       "      <th>archaeology_dc_subject</th>\n",
       "      <td>VWAL</td>\n",
       "    </tr>\n",
       "    <tr>\n",
       "      <th>dc_language</th>\n",
       "      <td>dut/nld,Nederlands</td>\n",
       "    </tr>\n",
       "    <tr>\n",
       "      <th>dc_publisher_s</th>\n",
       "      <td>Antea Group, Heerenveen</td>\n",
       "    </tr>\n",
       "    <tr>\n",
       "      <th>easy_collections</th>\n",
       "      <td>NaN</td>\n",
       "    </tr>\n",
       "    <tr>\n",
       "      <th>archaeology_dcterms_temporal</th>\n",
       "      <td>NTA,NTB</td>\n",
       "    </tr>\n",
       "    <tr>\n",
       "      <th>dc_title</th>\n",
       "      <td>Archeologische begeleiding aanleg gasleiding O...</td>\n",
       "    </tr>\n",
       "    <tr>\n",
       "      <th>amd_depositor_id</th>\n",
       "      <td>Q8888</td>\n",
       "    </tr>\n",
       "    <tr>\n",
       "      <th>ds_accesscategory</th>\n",
       "      <td>GROUP_ACCESS</td>\n",
       "    </tr>\n",
       "    <tr>\n",
       "      <th>emd_date_draft_saved</th>\n",
       "      <td>NaN</td>\n",
       "    </tr>\n",
       "    <tr>\n",
       "      <th>amd_workflow_progress</th>\n",
       "      <td>5</td>\n",
       "    </tr>\n",
       "  </tbody>\n",
       "</table>\n",
       "</div>"
      ],
      "text/plain": [
       "                                                                              0\n",
       "dc_coverage                   Provincie Groningen,Gemeente Groningen,Groning...\n",
       "emd_date_available_formatted                                         2018-11-27\n",
       "amd_assignee_id                                                         kbakker\n",
       "dc_title_s                    Archeologische begeleiding aanleg gasleiding O...\n",
       "dc_source                                                                   NaN\n",
       "type                                                       easy-dataset,dataset\n",
       "dc_description                De aanleiding tot het archeologisch onderzoek ...\n",
       "emd_date_created_formatted                     20181126-01-01T00:00:00.000+0100\n",
       "dc_subject                                                                 VWAL\n",
       "sid                                                         easy-dataset:114164\n",
       "emd_date_published                                      2018-11-30T10:13:28.71Z\n",
       "emd_audience                                                  easy-discipline:2\n",
       "emd_date_created                                       20181125-12-31T23:00:00Z\n",
       "emd_date_available                                         2018-11-26T23:00:00Z\n",
       "dc_rights                          GROUP_ACCESS,accept,Antea Group\\, Heerenveen\n",
       "dc_contributor                                                              NaN\n",
       "dc_contributor_s                                                            NaN\n",
       "dai_contributor                                                             NaN\n",
       "repository_id                                                        easy_local\n",
       "psl_permission_status                                                       NaN\n",
       "emd_date_submitted                                     2018-11-27T09:06:36.704Z\n",
       "dc_publisher                                           Antea Group\\, Heerenveen\n",
       "dai_creator                                                                 NaN\n",
       "dc_identifier                 urn:nbn:nl:ui:13-6d-4z5x,10.17026/dans-xqp-3vv...\n",
       "emd_date_deleted                                                            NaN\n",
       "dc_creator_s                  Akkerman, drs E., Editor Fens, MA R.L. (Antea ...\n",
       "dc_date                       20181126-01-01T00:00:00.000+0100,2018-11-27,20...\n",
       "ds_state                                                              PUBLISHED\n",
       "dc_format                                                   application/pdf,PDF\n",
       "dc_creator                    Akkerman\\, drs E.\\, Editor,Fens\\, MA R.L. (Ant...\n",
       "dc_relation                                                                 NaN\n",
       "dc_type                                                        Text,eindrapport\n",
       "archaeology_dc_subject                                                     VWAL\n",
       "dc_language                                                  dut/nld,Nederlands\n",
       "dc_publisher_s                                         Antea Group, Heerenveen \n",
       "easy_collections                                                            NaN\n",
       "archaeology_dcterms_temporal                                            NTA,NTB\n",
       "dc_title                      Archeologische begeleiding aanleg gasleiding O...\n",
       "amd_depositor_id                                                          Q8888\n",
       "ds_accesscategory                                                  GROUP_ACCESS\n",
       "emd_date_draft_saved                                                        NaN\n",
       "amd_workflow_progress                                                         5"
      ]
     },
     "execution_count": 2,
     "metadata": {},
     "output_type": "execute_result"
    }
   ],
   "source": [
    "query = 'sid:easy-dataset:114164'\n",
    "search(query).T"
   ]
  },
  {
   "cell_type": "markdown",
   "metadata": {},
   "source": [
    "Je ziet dat de lengte van de velden beperkt wordt. Wil je dat niet, dan kun je Pandas een andere instelling geven. Zet voor de query de regel\n",
    "\n",
    "```\n",
    "pd.options.display.max_colwidth = 0\n",
    "```\n",
    "... en kijk wat er gebeurt."
   ]
  },
  {
   "cell_type": "markdown",
   "metadata": {},
   "source": [
    "## Velden beperken, linken\n",
    "\n",
    "Vooral als je meeredere zoekresultaten hebt en en je wil die onder elkaar afbeelden (zonder te ***T***ransformeren) is het handig om niet alle kolommen weer te geven. Kolommen kun je beperken in je query, maar ook door op te geven aan het Pandas DataFrame welke kolommen gerendered moeten worden. Nog een truc: linken naar de dataset in EASY."
   ]
  },
  {
   "cell_type": "code",
   "execution_count": 3,
   "metadata": {},
   "outputs": [],
   "source": [
    "# Maakt van een gegeven val een html-tag die linkt naar EASY\n",
    "def link_easy(val):\n",
    "    prefix = 'https://easy.dans.knaw.nl/ui/datasets/id/'\n",
    "    return '<a target=\"_blank\" href=\"{}{}\">{}</a>'.format(prefix, val, val)"
   ]
  },
  {
   "cell_type": "code",
   "execution_count": 4,
   "metadata": {},
   "outputs": [
    {
     "data": {
      "text/plain": [
       "'<a target=\"_blank\" href=\"https://easy.dans.knaw.nl/ui/datasets/id/dataset:123\">dataset:123</a>'"
      ]
     },
     "execution_count": 4,
     "metadata": {},
     "output_type": "execute_result"
    }
   ],
   "source": [
    "# Test link_easy\n",
    "link_easy('dataset:123')"
   ]
  },
  {
   "cell_type": "code",
   "execution_count": 5,
   "metadata": {},
   "outputs": [
    {
     "data": {
      "text/html": [
       "<style  type=\"text/css\" >\n",
       "</style>  \n",
       "<table id=\"T_9b40808c_fd3e_11e8_be9f_acde48001122\" > \n",
       "<thead>    <tr> \n",
       "        <th class=\"blank level0\" ></th> \n",
       "        <th class=\"col_heading level0 col0\" >sid</th> \n",
       "        <th class=\"col_heading level0 col1\" >ds_state</th> \n",
       "        <th class=\"col_heading level0 col2\" >dc_title</th> \n",
       "        <th class=\"col_heading level0 col3\" >emd_date_published</th> \n",
       "    </tr></thead> \n",
       "<tbody>    <tr> \n",
       "        <th id=\"T_9b40808c_fd3e_11e8_be9f_acde48001122level0_row0\" class=\"row_heading level0 row0\" >0</th> \n",
       "        <td id=\"T_9b40808c_fd3e_11e8_be9f_acde48001122row0_col0\" class=\"data row0 col0\" ><a target=\"_blank\" href=\"https://easy.dans.knaw.nl/ui/datasets/id/easy-dataset:17056\">easy-dataset:17056</a></td> \n",
       "        <td id=\"T_9b40808c_fd3e_11e8_be9f_acde48001122row0_col1\" class=\"data row0 col1\" >PUBLISHED</td> \n",
       "        <td id=\"T_9b40808c_fd3e_11e8_be9f_acde48001122row0_col2\" class=\"data row0 col2\" >Opende,Steekproef 2006-07/20</td> \n",
       "        <td id=\"T_9b40808c_fd3e_11e8_be9f_acde48001122row0_col3\" class=\"data row0 col3\" >2009-11-05T15:31:44Z</td> \n",
       "    </tr>    <tr> \n",
       "        <th id=\"T_9b40808c_fd3e_11e8_be9f_acde48001122level0_row1\" class=\"row_heading level0 row1\" >1</th> \n",
       "        <td id=\"T_9b40808c_fd3e_11e8_be9f_acde48001122row1_col0\" class=\"data row1 col0\" ><a target=\"_blank\" href=\"https://easy.dans.knaw.nl/ui/datasets/id/easy-dataset:17115\">easy-dataset:17115</a></td> \n",
       "        <td id=\"T_9b40808c_fd3e_11e8_be9f_acde48001122row1_col1\" class=\"data row1 col1\" >PUBLISHED</td> \n",
       "        <td id=\"T_9b40808c_fd3e_11e8_be9f_acde48001122row1_col2\" class=\"data row1 col2\" >Den Ham\\, Veldstraat,Steekproef 2006-07/05</td> \n",
       "        <td id=\"T_9b40808c_fd3e_11e8_be9f_acde48001122row1_col3\" class=\"data row1 col3\" >2009-11-05T15:43:12Z</td> \n",
       "    </tr>    <tr> \n",
       "        <th id=\"T_9b40808c_fd3e_11e8_be9f_acde48001122level0_row2\" class=\"row_heading level0 row2\" >2</th> \n",
       "        <td id=\"T_9b40808c_fd3e_11e8_be9f_acde48001122row2_col0\" class=\"data row2 col0\" ><a target=\"_blank\" href=\"https://easy.dans.knaw.nl/ui/datasets/id/easy-dataset:65743\">easy-dataset:65743</a></td> \n",
       "        <td id=\"T_9b40808c_fd3e_11e8_be9f_acde48001122row2_col1\" class=\"data row2 col1\" >PUBLISHED</td> \n",
       "        <td id=\"T_9b40808c_fd3e_11e8_be9f_acde48001122row2_col2\" class=\"data row2 col2\" >Archeologisch onderzoek wijk 'Kostverloren' te Groningen</td> \n",
       "        <td id=\"T_9b40808c_fd3e_11e8_be9f_acde48001122row2_col3\" class=\"data row2 col3\" >2016-08-23T06:36:44.073Z</td> \n",
       "    </tr>    <tr> \n",
       "        <th id=\"T_9b40808c_fd3e_11e8_be9f_acde48001122level0_row3\" class=\"row_heading level0 row3\" >3</th> \n",
       "        <td id=\"T_9b40808c_fd3e_11e8_be9f_acde48001122row3_col0\" class=\"data row3 col0\" ><a target=\"_blank\" href=\"https://easy.dans.knaw.nl/ui/datasets/id/easy-dataset:78083\">easy-dataset:78083</a></td> \n",
       "        <td id=\"T_9b40808c_fd3e_11e8_be9f_acde48001122row3_col1\" class=\"data row3 col1\" >PUBLISHED</td> \n",
       "        <td id=\"T_9b40808c_fd3e_11e8_be9f_acde48001122row3_col2\" class=\"data row3 col2\" >Archeologische begeleiding van het plaatsen van ondergrondse containers aan het Boterdiep te Groningen\\, gemeente Groningen (GR)</td> \n",
       "        <td id=\"T_9b40808c_fd3e_11e8_be9f_acde48001122row3_col3\" class=\"data row3 col3\" >2018-03-19T09:16:13.544Z</td> \n",
       "    </tr>    <tr> \n",
       "        <th id=\"T_9b40808c_fd3e_11e8_be9f_acde48001122level0_row4\" class=\"row_heading level0 row4\" >4</th> \n",
       "        <td id=\"T_9b40808c_fd3e_11e8_be9f_acde48001122row4_col0\" class=\"data row4 col0\" ><a target=\"_blank\" href=\"https://easy.dans.knaw.nl/ui/datasets/id/easy-dataset:30202\">easy-dataset:30202</a></td> \n",
       "        <td id=\"T_9b40808c_fd3e_11e8_be9f_acde48001122row4_col1\" class=\"data row4 col1\" >PUBLISHED</td> \n",
       "        <td id=\"T_9b40808c_fd3e_11e8_be9f_acde48001122row4_col2\" class=\"data row4 col2\" >Gemeente Grootegast\\, terreinen Klokkenstoel en Premonstratenser klooster : archeologisch onderzoek,RAAPRAPPORT 323</td> \n",
       "        <td id=\"T_9b40808c_fd3e_11e8_be9f_acde48001122row4_col3\" class=\"data row4 col3\" >2009-06-05T10:00:51Z</td> \n",
       "    </tr>    <tr> \n",
       "        <th id=\"T_9b40808c_fd3e_11e8_be9f_acde48001122level0_row5\" class=\"row_heading level0 row5\" >5</th> \n",
       "        <td id=\"T_9b40808c_fd3e_11e8_be9f_acde48001122row5_col0\" class=\"data row5 col0\" ><a target=\"_blank\" href=\"https://easy.dans.knaw.nl/ui/datasets/id/easy-dataset:45208\">easy-dataset:45208</a></td> \n",
       "        <td id=\"T_9b40808c_fd3e_11e8_be9f_acde48001122row5_col1\" class=\"data row5 col1\" >PUBLISHED</td> \n",
       "        <td id=\"T_9b40808c_fd3e_11e8_be9f_acde48001122row5_col2\" class=\"data row5 col2\" >Stadse Fratsen 1,Een Laat-Middeleeuws runderskelet uit de opgraving Groningen\\, Agricolastraat 30-32</td> \n",
       "        <td id=\"T_9b40808c_fd3e_11e8_be9f_acde48001122row5_col3\" class=\"data row5 col3\" >2011-01-27T09:44:08Z</td> \n",
       "    </tr>    <tr> \n",
       "        <th id=\"T_9b40808c_fd3e_11e8_be9f_acde48001122level0_row6\" class=\"row_heading level0 row6\" >6</th> \n",
       "        <td id=\"T_9b40808c_fd3e_11e8_be9f_acde48001122row6_col0\" class=\"data row6 col0\" ><a target=\"_blank\" href=\"https://easy.dans.knaw.nl/ui/datasets/id/easy-dataset:17768\">easy-dataset:17768</a></td> \n",
       "        <td id=\"T_9b40808c_fd3e_11e8_be9f_acde48001122row6_col1\" class=\"data row6 col1\" >PUBLISHED</td> \n",
       "        <td id=\"T_9b40808c_fd3e_11e8_be9f_acde48001122row6_col2\" class=\"data row6 col2\" >Zandkoppen in de Oude Veenkoloniën. Een Archeologische Kwaliteitsbepaling</td> \n",
       "        <td id=\"T_9b40808c_fd3e_11e8_be9f_acde48001122row6_col3\" class=\"data row6 col3\" >2009-11-05T20:26:14Z</td> \n",
       "    </tr>    <tr> \n",
       "        <th id=\"T_9b40808c_fd3e_11e8_be9f_acde48001122level0_row7\" class=\"row_heading level0 row7\" >7</th> \n",
       "        <td id=\"T_9b40808c_fd3e_11e8_be9f_acde48001122row7_col0\" class=\"data row7 col0\" ><a target=\"_blank\" href=\"https://easy.dans.knaw.nl/ui/datasets/id/easy-dataset:561\">easy-dataset:561</a></td> \n",
       "        <td id=\"T_9b40808c_fd3e_11e8_be9f_acde48001122row7_col1\" class=\"data row7 col1\" >SUBMITTED</td> \n",
       "        <td id=\"T_9b40808c_fd3e_11e8_be9f_acde48001122row7_col2\" class=\"data row7 col2\" >Compupaper [newspapers]</td> \n",
       "        <td id=\"T_9b40808c_fd3e_11e8_be9f_acde48001122row7_col3\" class=\"data row7 col3\" >nan</td> \n",
       "    </tr>    <tr> \n",
       "        <th id=\"T_9b40808c_fd3e_11e8_be9f_acde48001122level0_row8\" class=\"row_heading level0 row8\" >8</th> \n",
       "        <td id=\"T_9b40808c_fd3e_11e8_be9f_acde48001122row8_col0\" class=\"data row8 col0\" ><a target=\"_blank\" href=\"https://easy.dans.knaw.nl/ui/datasets/id/easy-dataset:18765\">easy-dataset:18765</a></td> \n",
       "        <td id=\"T_9b40808c_fd3e_11e8_be9f_acde48001122row8_col1\" class=\"data row8 col1\" >PUBLISHED</td> \n",
       "        <td id=\"T_9b40808c_fd3e_11e8_be9f_acde48001122row8_col2\" class=\"data row8 col2\" >Rapportage Aanvullende Archeologische Inventarisatie 1 Winschoten,SYNTHEGRA 2002 057</td> \n",
       "        <td id=\"T_9b40808c_fd3e_11e8_be9f_acde48001122row8_col3\" class=\"data row8 col3\" >nan</td> \n",
       "    </tr>    <tr> \n",
       "        <th id=\"T_9b40808c_fd3e_11e8_be9f_acde48001122level0_row9\" class=\"row_heading level0 row9\" >9</th> \n",
       "        <td id=\"T_9b40808c_fd3e_11e8_be9f_acde48001122row9_col0\" class=\"data row9 col0\" ><a target=\"_blank\" href=\"https://easy.dans.knaw.nl/ui/datasets/id/easy-dataset:41062\">easy-dataset:41062</a></td> \n",
       "        <td id=\"T_9b40808c_fd3e_11e8_be9f_acde48001122row9_col1\" class=\"data row9 col1\" >PUBLISHED</td> \n",
       "        <td id=\"T_9b40808c_fd3e_11e8_be9f_acde48001122row9_col2\" class=\"data row9 col2\" >Getuigen Verhalen\\, Ooggetuigen van het Scholtenhuis\\, interview 05</td> \n",
       "        <td id=\"T_9b40808c_fd3e_11e8_be9f_acde48001122row9_col3\" class=\"data row9 col3\" >nan</td> \n",
       "    </tr></tbody> \n",
       "</table> "
      ],
      "text/plain": [
       "<pandas.io.formats.style.Styler at 0x10b5a26d8>"
      ]
     },
     "execution_count": 5,
     "metadata": {},
     "output_type": "execute_result"
    }
   ],
   "source": [
    "# We willen alleen maar deze velden zien\n",
    "cols = ['sid', 'ds_state', 'dc_title', 'emd_date_published']\n",
    "\n",
    "# Geen beperking aan kolombreedte...\n",
    "pd.options.display.max_colwidth = 0\n",
    "\n",
    "query = 'dc_coverage:Groningen'\n",
    "search(query).head(10)[cols].style.format({'sid': link_easy})"
   ]
  },
  {
   "cell_type": "markdown",
   "metadata": {},
   "source": [
    "Wat gebeurde hier allemaal?\n",
    "\n",
    "- De methode `link_easy` maakt van een gegeven waarde een link naar EASY. Dat zie je ook in de test daar onder.\n",
    "- De `cols = ['sid', 'ds_state', 'dc_title', 'emd_date_published']` is Python om een [list](https://www.tutorialspoint.com/python/python_lists.htm) aan te maken. Een list is een basis data-structuur in Python.\n",
    "- De query beperkt het zoekresultaat tot dc:coverage 'Groningen'.\n",
    "- De search wordt uitgevoerd `search(query)`\n",
    "- Het zoekresultaat wordt beperkt tot de eerste 10 resultaten `head(10)`\n",
    "- De kolommen worden beperkt `[cols]`\n",
    "- De waarde van het veld 'sid' wordt gerendered door de methode `link_easy` en afgebeeld als link `style.format({'sid': link_easy})`"
   ]
  },
  {
   "cell_type": "markdown",
   "metadata": {},
   "source": [
    "### Het resultaat opslaan als csv of Excel bestand\n",
    "\n",
    "We voeren dezelfde query weer uit maar slaan nu het resultaat op in een variabele: `df`."
   ]
  },
  {
   "cell_type": "code",
   "execution_count": 6,
   "metadata": {},
   "outputs": [],
   "source": [
    "query = 'dc_coverage:Groningen'\n",
    "df = search(query)"
   ]
  },
  {
   "cell_type": "markdown",
   "metadata": {},
   "source": [
    "We zien niks verschijnen, het resultaat is opgeslagen in variabele `df`. Hoe groot is onze tabel met zoekresultaten?"
   ]
  },
  {
   "cell_type": "code",
   "execution_count": 7,
   "metadata": {},
   "outputs": [
    {
     "data": {
      "text/plain": [
       "(200, 42)"
      ]
     },
     "execution_count": 7,
     "metadata": {},
     "output_type": "execute_result"
    }
   ],
   "source": [
    "df.shape"
   ]
  },
  {
   "cell_type": "markdown",
   "metadata": {},
   "source": [
    "`shape` (zonder haakjes) geeft de dimensies van de dataframe: 200 rijen (we hadden het zoekresultaat beperkt tot 200) en 42 kolommen.\n",
    "\n",
    "De methoden `to_csv` en `to_excel` van DataFrame slaan de dataframe op als bestand. Maak eerst een nieuwe directory aan in het linker deel van je Lab. Noem de directory 'data'.\n",
    "\n",
    "Bewaar de dataframe integraal als csv:"
   ]
  },
  {
   "cell_type": "code",
   "execution_count": 8,
   "metadata": {},
   "outputs": [],
   "source": [
    "df.to_csv('data/integraal.csv')"
   ]
  },
  {
   "cell_type": "markdown",
   "metadata": {},
   "source": [
    "Sla de dataframe op als Excel, maar beperk de kolommen tot de geselecteerde:"
   ]
  },
  {
   "cell_type": "code",
   "execution_count": 9,
   "metadata": {},
   "outputs": [],
   "source": [
    "df[cols].to_excel('data/selected.xls', index=None)"
   ]
  },
  {
   "cell_type": "markdown",
   "metadata": {},
   "source": [
    "Met `index=None` voorkomen we dat Pandas een extra kolom met indexnummers naar Excel schrijft."
   ]
  },
  {
   "cell_type": "markdown",
   "metadata": {},
   "source": [
    "### Inlezen van bestanden\n",
    "\n",
    "Inlezen van data gaat ook. Met `index_col=0` zeggen we tegen Pandas \"de data heeft al een index-kolom en wel op plaats `0`\". Anders maakt Pandas vrolijk weer een nieuwe index-kolom aan."
   ]
  },
  {
   "cell_type": "code",
   "execution_count": 10,
   "metadata": {},
   "outputs": [
    {
     "data": {
      "text/html": [
       "<div>\n",
       "<style scoped>\n",
       "    .dataframe tbody tr th:only-of-type {\n",
       "        vertical-align: middle;\n",
       "    }\n",
       "\n",
       "    .dataframe tbody tr th {\n",
       "        vertical-align: top;\n",
       "    }\n",
       "\n",
       "    .dataframe thead th {\n",
       "        text-align: right;\n",
       "    }\n",
       "</style>\n",
       "<table border=\"1\" class=\"dataframe\">\n",
       "  <thead>\n",
       "    <tr style=\"text-align: right;\">\n",
       "      <th></th>\n",
       "      <th>dc_identifier</th>\n",
       "      <th>emd_audience</th>\n",
       "    </tr>\n",
       "  </thead>\n",
       "  <tbody>\n",
       "    <tr>\n",
       "      <th>0</th>\n",
       "      <td>a02133,twips.dans.knaw.nl--966061926505295840-1257435104501,urn:nbn:nl:ui:13-rtl-87v,easy-dataset:17056,10.17026/dans-x4x-pdkp</td>\n",
       "      <td>easy-discipline:2</td>\n",
       "    </tr>\n",
       "    <tr>\n",
       "      <th>1</th>\n",
       "      <td>a02127,twips.dans.knaw.nl--449206700126139811-1257435792724,urn:nbn:nl:ui:13-4js-3wy,easy-dataset:17115,10.17026/dans-2bs-sgk6</td>\n",
       "      <td>easy-discipline:2</td>\n",
       "    </tr>\n",
       "    <tr>\n",
       "      <th>2</th>\n",
       "      <td>urn:nbn:nl:ui:13-fshe-vp,10.17026/dans-zxp-4fe8,64466,51152112,a27621,easy-dataset:65743</td>\n",
       "      <td>easy-discipline:2</td>\n",
       "    </tr>\n",
       "    <tr>\n",
       "      <th>3</th>\n",
       "      <td>urn:nbn:nl:ui:13-f0-pr2c,10.17026/dans-zvx-6rqw,3994868100,1875-5313,a33936,Projectnummer 55135516,easy-dataset:78083</td>\n",
       "      <td>easy-discipline:2</td>\n",
       "    </tr>\n",
       "    <tr>\n",
       "      <th>4</th>\n",
       "      <td>a06214,twips.dans.knaw.nl--4411347785204897798-1244196051210,urn:nbn:nl:ui:13-lbm-yvw,easy-dataset:30202,10.17026/dans-xyy-q73h</td>\n",
       "      <td>easy-discipline:2</td>\n",
       "    </tr>\n",
       "  </tbody>\n",
       "</table>\n",
       "</div>"
      ],
      "text/plain": [
       "                                                                                                                     dc_identifier  \\\n",
       "0  a02133,twips.dans.knaw.nl--966061926505295840-1257435104501,urn:nbn:nl:ui:13-rtl-87v,easy-dataset:17056,10.17026/dans-x4x-pdkp    \n",
       "1  a02127,twips.dans.knaw.nl--449206700126139811-1257435792724,urn:nbn:nl:ui:13-4js-3wy,easy-dataset:17115,10.17026/dans-2bs-sgk6    \n",
       "2  urn:nbn:nl:ui:13-fshe-vp,10.17026/dans-zxp-4fe8,64466,51152112,a27621,easy-dataset:65743                                          \n",
       "3  urn:nbn:nl:ui:13-f0-pr2c,10.17026/dans-zvx-6rqw,3994868100,1875-5313,a33936,Projectnummer 55135516,easy-dataset:78083             \n",
       "4  a06214,twips.dans.knaw.nl--4411347785204897798-1244196051210,urn:nbn:nl:ui:13-lbm-yvw,easy-dataset:30202,10.17026/dans-xyy-q73h   \n",
       "\n",
       "        emd_audience  \n",
       "0  easy-discipline:2  \n",
       "1  easy-discipline:2  \n",
       "2  easy-discipline:2  \n",
       "3  easy-discipline:2  \n",
       "4  easy-discipline:2  "
      ]
     },
     "execution_count": 10,
     "metadata": {},
     "output_type": "execute_result"
    }
   ],
   "source": [
    "df2 = pd.read_csv('data/integraal.csv', index_col=0)\n",
    "df2[['dc_identifier', 'emd_audience']].head()"
   ]
  },
  {
   "cell_type": "markdown",
   "metadata": {},
   "source": [
    "Door het inperken van kolommen die worden afgebeeld (let op de dubbele `[[  ]]` om de rij met kolomnamen) en door het beperken van het aantal rijen (`head()` zonder parameter geeft standaard 5 rijen) krijgen we weer een ander gezicht op de data."
   ]
  },
  {
   "cell_type": "code",
   "execution_count": null,
   "metadata": {},
   "outputs": [],
   "source": []
  }
 ],
 "metadata": {
  "kernelspec": {
   "display_name": "Python 3",
   "language": "python",
   "name": "python3"
  },
  "language_info": {
   "codemirror_mode": {
    "name": "ipython",
    "version": 3
   },
   "file_extension": ".py",
   "mimetype": "text/x-python",
   "name": "python",
   "nbconvert_exporter": "python",
   "pygments_lexer": "ipython3",
   "version": "3.6.5"
  }
 },
 "nbformat": 4,
 "nbformat_minor": 2
}
