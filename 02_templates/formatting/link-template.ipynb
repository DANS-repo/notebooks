{
 "cells": [
  {
   "cell_type": "markdown",
   "metadata": {},
   "source": [
    "[index](../../index.ipynb)\n",
    "\n",
    "---\n",
    "##### Formatting of [Pandas.DataFrames](https://pandas.pydata.org/pandas-docs/version/0.23.4/generated/pandas.DataFrame.html)"
   ]
  },
  {
   "cell_type": "markdown",
   "metadata": {},
   "source": [
    "# Link function"
   ]
  },
  {
   "cell_type": "code",
   "execution_count": 1,
   "metadata": {},
   "outputs": [],
   "source": [
    "def link_easy(sid):\n",
    "    \"\"\"\n",
    "    Creates an html link tag to a dataset page in Easy.\n",
    "    \n",
    "    :param sid: a dataset id\n",
    "    \n",
    "    :return: link to the page for that dataset\n",
    "    \"\"\"\n",
    "    prefix = 'https://easy.dans.knaw.nl/ui/datasets/id/'\n",
    "    return '<a target=\"_blank\" href=\"{}{}\">{}</a>'.format(prefix, sid, sid)"
   ]
  },
  {
   "cell_type": "markdown",
   "metadata": {},
   "source": [
    "---\n",
    "\n",
    "#### Documentation"
   ]
  },
  {
   "cell_type": "code",
   "execution_count": 2,
   "metadata": {},
   "outputs": [
    {
     "name": "stdout",
     "output_type": "stream",
     "text": [
      "\n",
      "    Creates an html link tag to a dataset page in Easy.\n",
      "    \n",
      "    :param sid: a dataset id\n",
      "    \n",
      "    :return: link to the page for that dataset\n",
      "    \n"
     ]
    }
   ],
   "source": [
    "print(link_easy.__doc__)"
   ]
  },
  {
   "cell_type": "markdown",
   "metadata": {},
   "source": [
    "---\n",
    "\n",
    "#### Usage examples"
   ]
  },
  {
   "cell_type": "code",
   "execution_count": 3,
   "metadata": {},
   "outputs": [
    {
     "data": {
      "text/plain": [
       "'<a target=\"_blank\" href=\"https://easy.dans.knaw.nl/ui/datasets/id/easy-dataset:114679\">easy-dataset:114679</a>'"
      ]
     },
     "execution_count": 3,
     "metadata": {},
     "output_type": "execute_result"
    }
   ],
   "source": [
    "link_easy('easy-dataset:114679')"
   ]
  },
  {
   "cell_type": "code",
   "execution_count": 4,
   "metadata": {},
   "outputs": [
    {
     "data": {
      "text/html": [
       "<a target=\"_blank\" href=\"https://easy.dans.knaw.nl/ui/datasets/id/easy-dataset:114679\">easy-dataset:114679</a>"
      ],
      "text/plain": [
       "<IPython.core.display.HTML object>"
      ]
     },
     "execution_count": 4,
     "metadata": {},
     "output_type": "execute_result"
    }
   ],
   "source": [
    "from IPython.display import HTML\n",
    "\n",
    "HTML(link_easy('easy-dataset:114679'))"
   ]
  },
  {
   "cell_type": "markdown",
   "metadata": {},
   "source": [
    "The link function can be given as a parameter to the [style.format](https://pandas.pydata.org/pandas-docs/version/0.23.4/generated/pandas.DataFrame.style.html#) method of a dataframe that has dataset-ids as field values."
   ]
  },
  {
   "cell_type": "code",
   "execution_count": 5,
   "metadata": {},
   "outputs": [
    {
     "data": {
      "text/html": [
       "<style  type=\"text/css\" >\n",
       "</style>  \n",
       "<table id=\"T_290a4924_fdf9_11e8_b571_acde48001122\" > \n",
       "<thead>    <tr> \n",
       "        <th class=\"blank level0\" ></th> \n",
       "        <th class=\"col_heading level0 col0\" >sid</th> \n",
       "        <th class=\"col_heading level0 col1\" >title</th> \n",
       "    </tr></thead> \n",
       "<tbody>    <tr> \n",
       "        <th id=\"T_290a4924_fdf9_11e8_b571_acde48001122level0_row0\" class=\"row_heading level0 row0\" >0</th> \n",
       "        <td id=\"T_290a4924_fdf9_11e8_b571_acde48001122row0_col0\" class=\"data row0 col0\" ><a target=\"_blank\" href=\"https://easy.dans.knaw.nl/ui/datasets/id/easy-dataset:114679\">easy-dataset:114679</a></td> \n",
       "        <td id=\"T_290a4924_fdf9_11e8_b571_acde48001122row0_col1\" class=\"data row0 col1\" >Inner hair cell..</td> \n",
       "    </tr>    <tr> \n",
       "        <th id=\"T_290a4924_fdf9_11e8_b571_acde48001122level0_row1\" class=\"row_heading level0 row1\" >1</th> \n",
       "        <td id=\"T_290a4924_fdf9_11e8_b571_acde48001122row1_col0\" class=\"data row1 col0\" ><a target=\"_blank\" href=\"https://easy.dans.knaw.nl/ui/datasets/id/easy-dataset:114682\">easy-dataset:114682</a></td> \n",
       "        <td id=\"T_290a4924_fdf9_11e8_b571_acde48001122row1_col1\" class=\"data row1 col1\" >Geo-tweets</td> \n",
       "    </tr></tbody> \n",
       "</table> "
      ],
      "text/plain": [
       "<pandas.io.formats.style.Styler at 0x1039e74e0>"
      ]
     },
     "execution_count": 5,
     "metadata": {},
     "output_type": "execute_result"
    }
   ],
   "source": [
    "import pandas as pd\n",
    "\n",
    "df = pd.DataFrame({'sid': ['easy-dataset:114679', 'easy-dataset:114682'], 'title': ['Inner hair cell..', 'Geo-tweets']})\n",
    "df.style.format({'sid': link_easy})"
   ]
  },
  {
   "cell_type": "markdown",
   "metadata": {},
   "source": [
    "---\n",
    "\n",
    "#### Functions as parameters\n",
    "\n",
    "To explain what happens above, when the [style.format](https://pandas.pydata.org/pandas-docs/version/0.23.4/generated/pandas.DataFrame.style.html#) method of a dataframe takes a (field) value and a function, consider the working of the next `function_x`, that takes the same parameter."
   ]
  },
  {
   "cell_type": "code",
   "execution_count": 6,
   "metadata": {},
   "outputs": [],
   "source": [
    "def function_x(sid, f):\n",
    "    return HTML(f(sid))"
   ]
  },
  {
   "cell_type": "code",
   "execution_count": 7,
   "metadata": {},
   "outputs": [
    {
     "data": {
      "text/html": [
       "<a target=\"_blank\" href=\"https://easy.dans.knaw.nl/ui/datasets/id/easy-dataset:114679\">easy-dataset:114679</a>"
      ],
      "text/plain": [
       "<IPython.core.display.HTML object>"
      ]
     },
     "execution_count": 7,
     "metadata": {},
     "output_type": "execute_result"
    }
   ],
   "source": [
    "function_x('easy-dataset:114679', link_easy)"
   ]
  },
  {
   "cell_type": "markdown",
   "metadata": {},
   "source": [
    "---\n",
    "[index](../../index.ipynb)"
   ]
  },
  {
   "cell_type": "code",
   "execution_count": null,
   "metadata": {},
   "outputs": [],
   "source": []
  }
 ],
 "metadata": {
  "kernelspec": {
   "display_name": "Python 3",
   "language": "python",
   "name": "python3"
  },
  "language_info": {
   "codemirror_mode": {
    "name": "ipython",
    "version": 3
   },
   "file_extension": ".py",
   "mimetype": "text/x-python",
   "name": "python",
   "nbconvert_exporter": "python",
   "pygments_lexer": "ipython3",
   "version": "3.6.5"
  }
 },
 "nbformat": 4,
 "nbformat_minor": 2
}
